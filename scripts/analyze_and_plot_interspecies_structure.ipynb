{
 "cells": [
  {
   "cell_type": "code",
   "execution_count": null,
   "metadata": {},
   "outputs": [],
   "source": [
    "#calculate average fraction genome shared between each pair of votus\n",
    "import pandas as pd\n",
    "import numpy as np\n",
    "\n",
    "# Load the data\n",
    "file_path = \"/Users/jferrare/Documents/Good Lab Work/Gut Phage/February_2025/BLAST_f95_f99_votus_w_100mem_diff_votu.txt\"\n",
    "df = pd.read_csv(file_path, sep='\\t')\n",
    "\n",
    "# Add new column\n",
    "df['new_col'] = df['f95'] / df[['len1', 'len2']].min(axis=1)\n",
    "\n",
    "# Compute mean and std using groupby\n",
    "grouped = df.groupby(['s1_votu', 's2_votu'])['new_col'].agg(['mean', 'std']).reset_index()\n",
    "\n",
    "# Save pairwise statistics\n",
    "output_dir = \"/Users/jferrare/Documents/Good Lab Work/Gut Phage/February_2025/\"\n",
    "output_file = output_dir + \"votu_pairwise_stats_f95_100mem.txt\"\n",
    "grouped.to_csv(output_file, sep='\\t', index=False)\n",
    "\n",
    "\n",
    "print(f\"Pairwise statistics saved to {output_file}\")\n"
   ]
  },
  {
   "cell_type": "code",
   "execution_count": null,
   "metadata": {},
   "outputs": [],
   "source": [
    "#plot heatmap\n",
    "import pandas as pd\n",
    "import numpy as np\n",
    "import seaborn as sns\n",
    "import matplotlib.pyplot as plt\n",
    "from scipy.cluster.hierarchy import linkage, leaves_list\n",
    "from matplotlib.colors import LogNorm\n",
    "\n",
    "# Pivot to matrix format\n",
    "unique_votus = sorted(set(df['s1_votu']).union(set(df['s2_votu'])))\n",
    "mean_df = grouped.pivot(index='s1_votu', columns='s2_votu', values='mean').reindex(index=unique_votus, columns=unique_votus, fill_value=0)\n",
    "mean_df = mean_df.fillna(0).replace([np.inf, -np.inf], 0)\n",
    "\n",
    "\n",
    "# Perform hierarchical clustering\n",
    "linkage_matrix = linkage(mean_df, method='ward')\n",
    "ordered_indices = leaves_list(linkage_matrix)\n",
    "ordered_votus = [unique_votus[i] for i in ordered_indices]\n",
    "mean_df = mean_df.reindex(index=ordered_votus, columns=ordered_votus)\n",
    "mean_df = mean_df.loc[(mean_df >= 0.1).any(axis=1), (mean_df >= 0.1).any(axis=0)]\n",
    "\n",
    "\n",
    "# Generate heatmap with log scale colorbar\n",
    "plt.figure(figsize=(14, 10),dpi=450)\n",
    "sns.heatmap(mean_df, cmap='Reds', xticklabels=False, yticklabels=False, vmin=0, vmax=1)\n",
    "\n",
    "# Title and labels\n",
    "plt.title(\"Hierarchical Clustering Heatmap of Mean Values\")\n",
    "plt.xlabel(\"s2_votu\")\n",
    "plt.ylabel(\"s1_votu\")\n",
    "plt.xticks(rotation=90)\n",
    "plt.yticks(rotation=0)\n",
    "\n",
    "# Adjust colorbar to reflect the desired scale\n",
    "cbar = plt.gca().collections[0].colorbar\n",
    "#save figure\n",
    "plt.savefig('/Users/jferrare/Documents/Good Lab Work/Gut Phage/February_2025/mean_heatmap_f99_log_transformed_100_mem_votus.png')\n",
    "\n",
    "plt.show()"
   ]
  }
 ],
 "metadata": {
  "language_info": {
   "name": "python"
  }
 },
 "nbformat": 4,
 "nbformat_minor": 2
}
